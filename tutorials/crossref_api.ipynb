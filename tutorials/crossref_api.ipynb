{
 "cells": [
  {
   "cell_type": "markdown",
   "metadata": {},
   "source": [
    "# Tutorial: Get all 2024 AMJ articles using API calls"
   ]
  },
  {
   "cell_type": "markdown",
   "metadata": {},
   "source": [
    "## Step 1. Familiarize yourself with the API"
   ]
  },
  {
   "cell_type": "markdown",
   "metadata": {},
   "source": [
    "We are going to use the CrossRef API to get all articles published in \n",
    "2024 by the *Academy of Management Journal*. \n",
    "\n",
    "The first step is to familiarize yourself with the API. So take a look \n",
    "at the following two pages first:\n",
    "\n",
    "- [Page 1: A non-technical introduction to the API](https://www.crossref.org/documentation/retrieve-metadata/rest-api/a-non-technical-introduction-to-our-api/)\n",
    "- [Page 2: The API documentation](https://api.crossref.org/swagger-ui/index.html) - This page is a bit technical, but it is the official documentation of the API."
   ]
  },
  {
   "cell_type": "markdown",
   "metadata": {},
   "source": [
    "## Step 2. Our first API calls"
   ]
  },
  {
   "cell_type": "markdown",
   "metadata": {},
   "source": [
    "On the non-technical introduction page, you were provided with \n",
    "a few example API calls to execute in your browser. Doing it\n",
    "manually in the browser isn't very helpful for us if we're trying \n",
    "to automate the process.\n",
    "\n",
    "Let's use Python to make some of these API calls instead.\n",
    "\n",
    "*Make sure to replace your_email@ucf.edu with your actual email address\n",
    "in the below cell.*"
   ]
  },
  {
   "cell_type": "code",
   "execution_count": null,
   "metadata": {},
   "outputs": [],
   "source": [
    "# Politeness matters - We want to be polite, so we send them\n",
    "# our email with the requests so they know who to contact with\n",
    "# concerns if our code goes wild. See their API documentation\n",
    "# for more information.\n",
    "\n",
    "your_email = \"your_email@ucf.edu\"\n",
    "if \"your_email\" in your_email:\n",
    "    print(\n",
    "        \"Nope, can't continue until you replace 'your_email@ucf.edu' with your email address in the code cell\"\n",
    "    )\n",
    "else:\n",
    "    print(\"Good to go!\")"
   ]
  },
  {
   "cell_type": "markdown",
   "metadata": {},
   "source": [
    "\n",
    "Let's try that first API call from the non-technical introduction page:\n",
    "\n",
    "> How many accounts do we have? (This includes members and others, both inactive and active) `https://api.crossref.org/members?rows=0`"
   ]
  },
  {
   "cell_type": "code",
   "execution_count": null,
   "metadata": {},
   "outputs": [],
   "source": [
    "from curl_cffi import requests\n",
    "\n",
    "api_url = \"https://api.crossref.org/members?rows=0\"\n",
    "api_response = requests.get(api_url, headers={\"mailto\": your_email})\n",
    "print(\"The Crossref server responded with status code: \", api_response.status_code)"
   ]
  },
  {
   "cell_type": "markdown",
   "metadata": {},
   "source": [
    "- What was the status code?\n",
    "- What does this mean? If you don't remember, go back to the video on web scraping."
   ]
  },
  {
   "cell_type": "code",
   "execution_count": null,
   "metadata": {},
   "outputs": [],
   "source": [
    "# Print the contents of the response\n",
    "\n",
    "print(\"Here is the content of what the server responded with:\\n\")\n",
    "print(api_response.content)"
   ]
  },
  {
   "cell_type": "markdown",
   "metadata": {},
   "source": [
    "Probably pretty difficult to read, right? That's because it's in JSON format.\n",
    "the `.content` attribute of the response object contains the raw data that was \n",
    "returned from the server. But JSON data is common enough that there is a \n",
    "built-in `.json()` method that will parse the data for us.\n",
    "\n",
    "Let's try it!"
   ]
  },
  {
   "cell_type": "code",
   "execution_count": null,
   "metadata": {},
   "outputs": [],
   "source": [
    "# Print the JSON content of the response\n",
    "from pprint import pprint\n",
    "\n",
    "print(\"Here is the JSON content of what the server responded with:\\n\")\n",
    "pprint(api_response.json())"
   ]
  },
  {
   "cell_type": "markdown",
   "metadata": {},
   "source": [
    "Looks about the same, but prettier, right? Well, the technical difference is \n",
    "that the data is now a Python dictionary, which we can interact with much more\n",
    "easily. Previously it was one long string of characters that Python didn't\n",
    "know how to interpret.\n",
    "\n",
    "Let's see if we can get at that 'total-results' key in the dictionary."
   ]
  },
  {
   "cell_type": "code",
   "execution_count": null,
   "metadata": {},
   "outputs": [],
   "source": [
    "# Get the total-results from the JSON response\n",
    "total_results = api_response.json()[\"message\"][\"total-results\"]\n",
    "print(\"The total number of members in the Crossref database is: \", total_results)"
   ]
  },
  {
   "cell_type": "markdown",
   "metadata": {},
   "source": [
    "You access information from a dictionary by using square brackets and the key name.\n",
    "Here, the 'total-results' key is not at the top level, it was underneath the\n",
    "'message' key, so we have two steps to access it:\n",
    "\n",
    "```python\n",
    "response.json()['message']['total-results']\n",
    "```\n",
    "1. `response.json()` returns the top-level dictionary from the JSON data\n",
    "2. `['message']` accesses the data stored under the 'message' key. This included:\n",
    "   1. `items`\n",
    "   2. `items-per-page`\n",
    "   3. `query`\n",
    "   4. `total-results`\n",
    "3. `['total-results']` accesses the data stored under the 'total-results' key\n",
    "within the `message` data"
   ]
  },
  {
   "cell_type": "markdown",
   "metadata": {},
   "source": [
    "Let's try something that has more than one piece of information in it that\n",
    "we want to access. Let's try another API call from the non-technical\n",
    "introduction page: \n",
    "\n",
    "> Let’s look at some of the results. `https://api.crossref.org/works?query=%22blood%22&`"
   ]
  },
  {
   "cell_type": "code",
   "execution_count": null,
   "metadata": {},
   "outputs": [],
   "source": [
    "api_url = \"https://api.crossref.org/works?query=%22blood%22&\"\n",
    "api_response = requests.get(api_url, headers={\"mailto\": your_email})\n",
    "print(\"The Crossref server responded with status code: \", api_response.status_code)\n",
    "blood_json = api_response.json()\n",
    "blood_total_results = blood_json[\"message\"][\"total-results\"]\n",
    "print(\n",
    "    f\"The total number of works in the Crossref database with the word \"\n",
    "    f\"'blood' in the title is: {blood_total_results}\"\n",
    ")\n",
    "print(\"Here is the JSON the server responded with:\\n\")\n",
    "pprint(blood_json)"
   ]
  },
  {
   "cell_type": "markdown",
   "metadata": {},
   "source": [
    "That is a lot of results! Let's see how many they actually sent us!"
   ]
  },
  {
   "cell_type": "code",
   "execution_count": null,
   "metadata": {},
   "outputs": [],
   "source": [
    "n_items = len(blood_json[\"message\"][\"items\"])\n",
    "print(\"The number of items in the 'items' list is: \", n_items)"
   ]
  },
  {
   "cell_type": "markdown",
   "metadata": {},
   "source": [
    "OK, so even though there were nearly a million results, they only sent us 20.\n",
    "That's because the API has a default limit of 20 results per page. We can\n",
    "change that later if we want to, but for right now, let's just explore what we \n",
    "can do with these 20 results.\n",
    "\n",
    "Let's see just what the data they sent us in the first result contains.\n",
    "\n",
    "When you have a dictionary, you can use the `.keys()` method to see what keys\n",
    "are available to access. Let's try that with the first result."
   ]
  },
  {
   "cell_type": "code",
   "execution_count": null,
   "metadata": {},
   "outputs": [],
   "source": [
    "data_keys = sorted(list(blood_json[\"message\"][\"items\"][0].keys()))\n",
    "print(f\"There are {len(data_keys)} keys in the first item in the list.\\n\")\n",
    "print(\"The keys are: \")\n",
    "pprint(data_keys)"
   ]
  },
  {
   "cell_type": "markdown",
   "metadata": {},
   "source": [
    "So we can see that there are a lot of keys available to us. Let's try to access\n",
    "the 'title' key to see what the titles of the 20 returned items are."
   ]
  },
  {
   "cell_type": "code",
   "execution_count": null,
   "metadata": {},
   "outputs": [],
   "source": [
    "for item in blood_json[\"message\"][\"items\"]:\n",
    "    print(item[\"title\"])"
   ]
  },
  {
   "cell_type": "markdown",
   "metadata": {},
   "source": [
    "Notice how they're all in square brackets? That's because the 'title' key\n",
    "in crossref data actually returns a list of titles. This is because an article\n",
    "can have more than one title, such as in multiple languages. For now, let's \n",
    "just look at the first title of the first result."
   ]
  },
  {
   "cell_type": "code",
   "execution_count": null,
   "metadata": {},
   "outputs": [],
   "source": [
    "for item in blood_json[\"message\"][\"items\"]:\n",
    "    print(item[\"title\"][0])"
   ]
  },
  {
   "cell_type": "markdown",
   "metadata": {},
   "source": [
    "Better, now what about authors? Let's try to access the 'author' key."
   ]
  },
  {
   "cell_type": "code",
   "execution_count": null,
   "metadata": {},
   "outputs": [],
   "source": [
    "for item in blood_json[\"message\"][\"items\"]:\n",
    "    pprint(item.get(\"author\", []))"
   ]
  },
  {
   "cell_type": "markdown",
   "metadata": {},
   "source": [
    "What gives? Why did I change the way I retrieved the data from the dictionary?\n",
    "\n",
    "Well, I knew that 'title' was always going to be in the data, so using the \n",
    "`['title']` method was fine. But 'author' is not always going to be in the data.\n",
    "because not all articles have authors. So I used the `.get()` method instead.\n",
    "This method allows you to specify a default value if the key you're looking for\n",
    "is not in the dictionary. In this case, I specified an empty list `[]` as the \n",
    "default because I'm expecting to have to work with the authors data as a list \n",
    "because there can be multiple authors.\n",
    "\n",
    "So all of those empty lists mean that there were no authors for that particular\n",
    "article. \n",
    "\n",
    "Now let's use that author data to calculate the number of authors for each \n",
    "article - something they don't provide us with directly."
   ]
  },
  {
   "cell_type": "code",
   "execution_count": null,
   "metadata": {},
   "outputs": [],
   "source": [
    "for item in blood_json[\"message\"][\"items\"]:\n",
    "    author_list = item.get(\"author\", [])\n",
    "    print(len(author_list))"
   ]
  },
  {
   "cell_type": "markdown",
   "metadata": {},
   "source": [
    "Cool, now let's make the query customizable, so we can search for things\n",
    "other than 'blood'."
   ]
  },
  {
   "cell_type": "code",
   "execution_count": null,
   "metadata": {},
   "outputs": [],
   "source": [
    "import urllib.parse\n",
    "\n",
    "# Replace this with the search term/phrase you want to use\n",
    "search_phrase = \"entrepreneurial orientation\"\n",
    "n_rows = 10\n",
    "\n",
    "search_term = urllib.parse.quote(search_phrase)\n",
    "api_url = f\"https://api.crossref.org/works?query=%22{search_term}%22&rows={n_rows}\"\n",
    "api_response = requests.get(api_url, headers={\"mailto\": your_email})\n",
    "print(\"The Crossref server responded with status code: \", api_response.status_code)\n",
    "custom_json = api_response.json()\n",
    "custom_total_results = custom_json[\"message\"][\"total-results\"]\n",
    "print(\n",
    "    f\"The total number of works in the Crossref database with the search term \"\n",
    "    f\"'{search_phrase}' in the title is: {custom_total_results}\"\n",
    ")\n",
    "print(f\"The server replied with {len(custom_json['message']['items'])} items.\")\n",
    "print(\"\\nHere is the JSON the server responded with:\\n\")\n",
    "pprint(custom_json)"
   ]
  },
  {
   "cell_type": "markdown",
   "metadata": {},
   "source": [
    "Notice we did a couple of things here:\n",
    "\n",
    "```python\n",
    "search_term = urllib.parse.quote(search_phrase)\n",
    "```\n",
    "We did this to make sure that the search term was properly formatted for a URL.\n",
    "This is important because URLs can't have spaces or certain other characters in\n",
    "them. This function replaces those characters with the appropriate URL encoding.\n",
    "\n",
    "```python\n",
    "api_url = f\"https://api.crossref.org/works?query=%22{search_term}%22&rows={n_rows}\"\n",
    "```\n",
    "We used an f-string to insert the search term and the number of rows we want\n",
    "directly into the URL. This is a nice way to make sure that the URL is always\n",
    "formatted correctly while enabling us to update the URL dynamically. For instance\n",
    "if we wanted to loop through a variety of search terms, we could just update the\n",
    "`search_term` variable and the URL would be updated automatically."
   ]
  },
  {
   "cell_type": "markdown",
   "metadata": {},
   "source": [
    "OK, now let's try to get all the articles from the *Academy of Management Journal*"
   ]
  },
  {
   "cell_type": "markdown",
   "metadata": {},
   "source": [
    "## Step 3. Get all articles from the *Academy of Management Journal* in 2024"
   ]
  },
  {
   "cell_type": "markdown",
   "metadata": {},
   "source": [
    "The examples are only going to get us so far. None of these examples tell us \n",
    "how to get all the articles from a specific journal in a specific year. We're\n",
    "going to have to figure that out on our own.\n",
    "\n",
    "Let's start by looking at the [API documentation](https://api.crossref.org/swagger-ui/index.html)\n",
    "\n",
    "Do you see anything that looks like it would return a list of journals?"
   ]
  },
  {
   "cell_type": "markdown",
   "metadata": {},
   "source": [
    "### Step 3.1. Get the ISSN for the *Academy of Management Journal*\n",
    "\n",
    "Hopefully you found the section that says \"Journals Endpoints that expose \n",
    "journal related data\". Within that section, you should see information about\n",
    "three different endpoints:\n",
    "- `/journals` - Return a list of journals in the Crossref database.\n",
    "- `/journals/{issn}` - Returns information about a journal with the given ISSN\n",
    "- `/journals/{issn}/works` - Returns a list of works in the journal identified \n",
    "by the given ISSN.\n",
    "\n",
    "We could look up the ISSN for the *Academy of Management Journal* on the\n",
    "journal's website, but we're going to pretend that we don't know it and\n",
    "are stuck using the `/journals` endpoint to find it."
   ]
  },
  {
   "cell_type": "code",
   "execution_count": null,
   "metadata": {},
   "outputs": [],
   "source": [
    "endpoint = \"/journals\"\n",
    "journal_title = \"Academy of Management Journal\"\n",
    "query = f\"query={urllib.parse.quote(journal_title)}\"\n",
    "api_url = f\"https://api.crossref.org{endpoint}?{query}\"\n",
    "print(\"The URL we are going to use is: \", api_url)"
   ]
  },
  {
   "cell_type": "markdown",
   "metadata": {},
   "source": [
    "Try clicking on the link for the `/journals` endpoint. What do you see?\n",
    "This is hard to manage manually, so let's use Python to get the data for us."
   ]
  },
  {
   "cell_type": "code",
   "execution_count": null,
   "metadata": {},
   "outputs": [],
   "source": [
    "api_response = requests.get(api_url, headers={\"mailto\": your_email})\n",
    "print(\"The Crossref server responded with status code: \", api_response.status_code)\n",
    "journal_json = api_response.json()\n",
    "journal_total_results = journal_json[\"message\"][\"total-results\"]\n",
    "print(\n",
    "    f\"The total number of journals in the Crossref database with the title \"\n",
    "    f\"containing the words {journal_title} is: {journal_total_results}\"\n",
    ")\n",
    "print(f\"The server replied with {len(journal_json['message']['items'])} items.\")"
   ]
  },
  {
   "cell_type": "markdown",
   "metadata": {},
   "source": [
    "Eight items? We were expecting to see only one! What's going on?\n",
    "\n",
    "Let's diagnose the problem by looking at the items in the list."
   ]
  },
  {
   "cell_type": "code",
   "execution_count": null,
   "metadata": {},
   "outputs": [],
   "source": [
    "# What data do we have for each journal?\n",
    "data_keys = sorted(list(journal_json[\"message\"][\"items\"][0].keys()))\n",
    "print(f\"There are {len(data_keys)} keys in the first item in the list.\\n\")\n",
    "print(\"The keys are: \")\n",
    "pprint(data_keys)"
   ]
  },
  {
   "cell_type": "markdown",
   "metadata": {},
   "source": [
    "\"Title\" looks promising..."
   ]
  },
  {
   "cell_type": "code",
   "execution_count": null,
   "metadata": {},
   "outputs": [],
   "source": [
    "for item in journal_json[\"message\"][\"items\"]:\n",
    "    print(item[\"title\"])"
   ]
  },
  {
   "cell_type": "markdown",
   "metadata": {},
   "source": [
    "AHA! We found the *Academy of Management Journal*! The others just use the same\n",
    "words. Let's find the ISSN for the *Academy of Management Journal*."
   ]
  },
  {
   "cell_type": "code",
   "execution_count": null,
   "metadata": {},
   "outputs": [],
   "source": [
    "issn_list = []\n",
    "for item in journal_json[\"message\"][\"items\"]:\n",
    "    if item[\"title\"] == \"Academy of Management Journal\":\n",
    "        issn_list.extend(item[\"ISSN\"])\n",
    "print(issn_list)"
   ]
  },
  {
   "cell_type": "markdown",
   "metadata": {},
   "source": [
    "Verify that these are the correct ISSNs:\n",
    "\n",
    "https://en.wikipedia.org/wiki/Academy_of_Management_Journal"
   ]
  },
  {
   "cell_type": "markdown",
   "metadata": {},
   "source": [
    "Let's get the information about the journal from the second API endpoint:\n",
    "`/journals/{issn}`"
   ]
  },
  {
   "cell_type": "code",
   "execution_count": null,
   "metadata": {},
   "outputs": [],
   "source": [
    "for issn in issn_list:\n",
    "    endpoint = f\"/journals/{issn}\"\n",
    "    api_url = f\"https://api.crossref.org{endpoint}\"\n",
    "    print(\"The URL we are about to use for ISSN {issn} is: \", api_url)\n",
    "    api_response = requests.get(api_url, headers={\"mailto\": your_email})\n",
    "    print(\"The Crossref server responded with status code: \", api_response.status_code)\n",
    "    journal_details_json = api_response.json()\n",
    "    print(\"Here is the JSON the server responded with:\\n\")\n",
    "    pprint(journal_details_json)"
   ]
  },
  {
   "cell_type": "markdown",
   "metadata": {},
   "source": [
    "OK. So we have the ISSNs for the *Academy of Management Journal*. Let's use\n",
    "the `/journals/{issn}/works` endpoint to get all the articles from the journal\n",
    "in 2024.\n",
    "\n",
    "**We're just going to use the first ISSN for now because they will provide duplicate results for the most part.**"
   ]
  },
  {
   "cell_type": "code",
   "execution_count": null,
   "metadata": {},
   "outputs": [],
   "source": [
    "issn = issn_list[0]\n",
    "endpoint = f\"/journals/{issn}/works\"\n",
    "\n",
    "from_date = \"2024-01-01\"\n",
    "until_date = \"2024-12-31\"\n",
    "n_rows = 100\n",
    "query = f\"filter=from-pub-date:{from_date},until-pub-date:{until_date}&rows={n_rows}\"\n",
    "\n",
    "api_url = f\"https://api.crossref.org{endpoint}?{query}\"\n",
    "print(\"The URL we are going to use is: \", api_url)\n",
    "api_response = requests.get(api_url, headers={\"mailto\": your_email})\n",
    "print(\"The Crossref server responded with status code: \", api_response.status_code)\n",
    "journal_works_json = api_response.json()\n",
    "journal_works_total_results = journal_works_json[\"message\"][\"total-results\"]\n",
    "print(\n",
    "    f\"The total number of works in the Crossref database with the ISSN {issn} \"\n",
    "    f\"published between {from_date} and {until_date} is: {journal_works_total_results}\"\n",
    ")\n",
    "print(f\"The server replied with {len(journal_works_json['message']['items'])} items.\")\n",
    "print(\"\\nHere is the JSON the server responded with:\\n\")\n",
    "pprint(journal_works_json)"
   ]
  },
  {
   "cell_type": "markdown",
   "metadata": {},
   "source": [
    "We got the data we're looking for! Now we just need to extract the information\n",
    "we want from it and save it to a datafile."
   ]
  },
  {
   "cell_type": "markdown",
   "metadata": {},
   "source": [
    "## Step 4. Extract and save the data to a file"
   ]
  },
  {
   "cell_type": "markdown",
   "metadata": {},
   "source": [
    "Let's say that we want the following information from each article:\n",
    "- DOI\n",
    "- Title\n",
    "- Number of references\n",
    "- Number of authors\n",
    "- Number of citations\n",
    "- Publication date\n",
    "- URL\n",
    "\n",
    "Let's see if we can get this just for the first article."
   ]
  },
  {
   "cell_type": "code",
   "execution_count": null,
   "metadata": {},
   "outputs": [],
   "source": [
    "first_article = journal_works_json[\"message\"][\"items\"][0]\n",
    "print(\"The data we have for the first article in the list is:\")\n",
    "pprint(sorted(list(first_article.keys())))"
   ]
  },
  {
   "cell_type": "markdown",
   "metadata": {},
   "source": [
    "From this we can get the variables we want to extract:"
   ]
  },
  {
   "cell_type": "code",
   "execution_count": null,
   "metadata": {},
   "outputs": [],
   "source": [
    "doi = first_article[\"DOI\"]\n",
    "title = first_article[\"title\"][0]\n",
    "n_refs = first_article[\"references-count\"]\n",
    "n_authors = len(first_article.get(\"author\", []))\n",
    "n_cites = first_article[\"is-referenced-by-count\"]\n",
    "pub_date = first_article[\"published\"]\n",
    "url = first_article[\"URL\"]\n",
    "\n",
    "print(f\"DOI: {doi}\")\n",
    "print(f\"Title: {title}\")\n",
    "print(f\"Number of references: {n_refs}\")\n",
    "print(f\"Number of authors: {n_authors}\")\n",
    "print(f\"Number of citations: {n_cites}\")\n",
    "print(f\"Publication date: {pub_date}\")\n",
    "print(f\"URL: {url}\")"
   ]
  },
  {
   "cell_type": "markdown",
   "metadata": {},
   "source": [
    "This looks good, but what's with the date? It's not in a very useful format.\n",
    "We can use the `datetime` module to convert it to a more useful format."
   ]
  },
  {
   "cell_type": "code",
   "execution_count": null,
   "metadata": {},
   "outputs": [],
   "source": [
    "import datetime\n",
    "\n",
    "if len(pub_date[\"date-parts\"][0]) == 3:\n",
    "    year, month, day = pub_date[\"date-parts\"][0]\n",
    "else:\n",
    "    year, month = pub_date[\"date-parts\"][0]\n",
    "    day = 1\n",
    "\n",
    "pub_date = datetime.datetime(year, month, day)\n",
    "print(f\"The publication date is: {pub_date.strftime('%B %d, %Y')}\")"
   ]
  },
  {
   "cell_type": "markdown",
   "metadata": {},
   "source": [
    "Hrmm... that seems to have worked, but we don't want to have to do that every\n",
    "time we want to restructure the date. Let's make a function that will do that \n",
    "for us."
   ]
  },
  {
   "cell_type": "code",
   "execution_count": null,
   "metadata": {},
   "outputs": [],
   "source": [
    "def build_date(date_parts):\n",
    "    if len(date_parts[0]) == 3:\n",
    "        year, month, day = date_parts[0]\n",
    "    else:\n",
    "        year, month = date_parts[0]\n",
    "        day = 1\n",
    "    return datetime.datetime(year, month, day)\n",
    "\n",
    "\n",
    "print(build_date([[2024, 1, 1]]).strftime(\"%B %d, %Y\"))\n",
    "print(build_date([[2024, 12, 31]]).strftime(\"%B %d, %Y\"))\n",
    "print(build_date([[2024, 7]]).strftime(\"%B %d, %Y\"))"
   ]
  },
  {
   "cell_type": "markdown",
   "metadata": {},
   "source": [
    "Well, that's useful, but we also want to be able to parse an entire article at a time,\n",
    "not just the date. Let's make a function that will do that for us."
   ]
  },
  {
   "cell_type": "code",
   "execution_count": null,
   "metadata": {},
   "outputs": [],
   "source": [
    "def parse_article(article):\n",
    "    doi = article[\"DOI\"]\n",
    "    title = article[\"title\"][0]\n",
    "    n_refs = article[\"references-count\"]\n",
    "    n_authors = len(article.get(\"author\", []))\n",
    "    n_cites = article[\"is-referenced-by-count\"]\n",
    "    pub_date = build_date(article[\"published\"][\"date-parts\"])\n",
    "    url = article[\"URL\"]\n",
    "    return {\n",
    "        \"doi\": doi,\n",
    "        \"title\": title,\n",
    "        \"n_refs\": n_refs,\n",
    "        \"n_authors\": n_authors,\n",
    "        \"n_cites\": n_cites,\n",
    "        \"pub_date\": pub_date,\n",
    "        \"url\": url,\n",
    "    }\n",
    "\n",
    "\n",
    "print(\"Here is the first article's information using the function: \")\n",
    "pprint(parse_article(first_article))\n",
    "\n",
    "print(\"\\nHere is the second article's information using the function: \")\n",
    "pprint(parse_article(journal_works_json[\"message\"][\"items\"][1]))"
   ]
  },
  {
   "cell_type": "markdown",
   "metadata": {},
   "source": [
    "OK, so now we can systematically apply this function to all the articles in the\n",
    "data we got from the API call.\n",
    "\n",
    "Now let's do it."
   ]
  },
  {
   "cell_type": "code",
   "execution_count": null,
   "metadata": {},
   "outputs": [],
   "source": [
    "import pandas as pd\n",
    "\n",
    "article_data = []\n",
    "for article in journal_works_json[\"message\"][\"items\"]:\n",
    "    article_data.append(parse_article(article))\n",
    "\n",
    "article_df = pd.DataFrame(article_data).sort_values(\"pub_date\", ascending=True)\n",
    "print(article_df.head())"
   ]
  },
  {
   "cell_type": "markdown",
   "metadata": {},
   "source": [
    "Let's see what all we got in the dataset"
   ]
  },
  {
   "cell_type": "code",
   "execution_count": null,
   "metadata": {},
   "outputs": [],
   "source": [
    "n_rows = article_df.shape[0]\n",
    "n_columns = article_df.shape[1]\n",
    "print(f\"The dataframe has {n_rows} articles with {n_columns} columns of data.\")\n",
    "\n",
    "avg_refs = article_df[\"n_refs\"].mean()\n",
    "avg_authors = article_df[\"n_authors\"].mean()\n",
    "avg_cites = article_df[\"n_cites\"].mean()\n",
    "print(f\"The average number of references is: {avg_refs}\")\n",
    "print(f\"The average number of authors is: {avg_authors}\")\n",
    "print(f\"The average number of citations is: {avg_cites}\")\n"
   ]
  },
  {
   "cell_type": "markdown",
   "metadata": {},
   "source": [
    "Chances are, you aren't going to want to work with the data in this notebook.\n",
    "\n",
    "Let's save the dataframe to a CSV file so that you can work with it in\n",
    "another notebook, Excel, or any other program that can read CSV files."
   ]
  },
  {
   "cell_type": "code",
   "execution_count": null,
   "metadata": {},
   "outputs": [],
   "source": [
    "from pathlib import Path\n",
    "\n",
    "filename = Path.cwd() / \"journal_articles.csv\"\n",
    "article_df.to_csv(filename, index=False, encoding=\"utf-8-sig\", header=True)\n",
    "print(f\"Data saved to {filename}\")"
   ]
  },
  {
   "cell_type": "markdown",
   "metadata": {},
   "source": [
    "Now you have the 2024 AMJ articles in a CSV file!\n",
    "\n",
    "Try opening it - does it look like what you expected?"
   ]
  },
  {
   "cell_type": "markdown",
   "metadata": {},
   "source": [
    "Done..."
   ]
  }
 ],
 "metadata": {
  "kernelspec": {
   "display_name": ".venv",
   "language": "python",
   "name": "python3"
  },
  "language_info": {
   "codemirror_mode": {
    "name": "ipython",
    "version": 3
   },
   "file_extension": ".py",
   "mimetype": "text/x-python",
   "name": "python",
   "nbconvert_exporter": "python",
   "pygments_lexer": "ipython3",
   "version": "3.12.7"
  }
 },
 "nbformat": 4,
 "nbformat_minor": 2
}
