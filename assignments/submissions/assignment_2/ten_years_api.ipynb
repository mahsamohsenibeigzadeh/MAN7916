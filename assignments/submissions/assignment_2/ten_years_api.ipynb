{
  "nbformat": 4,
  "nbformat_minor": 0,
  "metadata": {
    "colab": {
      "provenance": []
    },
    "kernelspec": {
      "name": "python3",
      "display_name": "Python 3"
    },
    "language_info": {
      "name": "python"
    }
  },
  "cells": [
    {
      "cell_type": "code",
      "execution_count": 3,
      "metadata": {
        "id": "JBvLux7hulrs"
      },
      "outputs": [],
      "source": [
        "import requests\n",
        "import pandas as pd\n",
        "from scipy import stats"
      ]
    },
    {
      "cell_type": "code",
      "source": [
        "import requests\n",
        "import csv\n",
        "import os\n",
        "\n",
        "# Example journal ISSNs\n",
        "journals = [\n",
        "    {\"name\": \"Academy of Management Journal\", \"issn\": \"0001-4273\"},\n",
        "    {\"name\": \"Strategic Management Journal\", \"issn\": \"0143-2095\"},\n",
        "    {\"name\": \"Journal of Business Venturing\", \"issn\": \"0883-9026\"}\n",
        "]\n",
        "\n",
        "results = []\n",
        "\n",
        "# Create directory for output files if it doesn't exist\n",
        "output_directory = 'assignment_2'\n",
        "os.makedirs(output_directory, exist_ok=True)\n",
        "\n",
        "# Fetch articles from each journal\n",
        "for journal in journals:\n",
        "    issn = journal[\"issn\"]\n",
        "    url = f\"https://api.crossref.org/journals/{issn}/works?filter=from-pub-date:2015-01-01\"\n",
        "    response = requests.get(url)\n",
        "\n",
        "    if response.status_code == 200:\n",
        "        data = response.json()\n",
        "        for item in data['message']['items']:\n",
        "            results.append({\n",
        "                'DOI': item.get('DOI', ''),\n",
        "                'Title': item.get('title', [''])[0],\n",
        "                'References': item.get('reference-count', 0),\n",
        "                'Authors': len(item.get('author', [])),\n",
        "                'Citations': item.get('is-referenced-by-count', 0),\n",
        "                'URL': item.get('URL', ''),\n",
        "                'Journal': journal[\"name\"],\n",
        "                'Abstract': item.get('abstract', ''),\n",
        "                'Publication Year': item.get('published-print', {}).get('date-parts', [[None]])[0][0]\n",
        "            })\n",
        "    else:\n",
        "        print(f\"Error fetching data for journal {journal['name']} (ISSN: {issn}): {response.status_code} - {response.text}\")\n",
        "\n",
        "# Save results to CSV\n",
        "csv_file_path = os.path.join(output_directory, \"ten_years_api.csv\")\n",
        "with open(csv_file_path, 'w', newline='', encoding='utf-8') as csvfile:\n",
        "    fieldnames = ['DOI', 'Title', 'References', 'Authors', 'Citations', 'URL', 'Journal', 'Abstract', 'Publication Year']\n",
        "    writer = csv.DictWriter(csvfile, fieldnames=fieldnames)\n",
        "    writer.writeheader()\n",
        "    for result in results:\n",
        "        writer.writerow(result)\n",
        "\n",
        "print(f\"Data saved to {csv_file_path}\")\n"
      ],
      "metadata": {
        "colab": {
          "base_uri": "https://localhost:8080/"
        },
        "id": "xFFfQuXL2z2w",
        "outputId": "7d7e6d44-864d-4ea1-be1c-6856bdc5c991"
      },
      "execution_count": 20,
      "outputs": [
        {
          "output_type": "stream",
          "name": "stdout",
          "text": [
            "Data saved to assignment_2/ten_years_api.csv\n"
          ]
        }
      ]
    }
  ]
}