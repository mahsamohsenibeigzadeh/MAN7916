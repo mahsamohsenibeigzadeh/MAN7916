{
  "nbformat": 4,
  "nbformat_minor": 0,
  "metadata": {
    "colab": {
      "provenance": []
    },
    "kernelspec": {
      "name": "python3",
      "display_name": "Python 3"
    },
    "language_info": {
      "name": "python"
    }
  },
  "cells": [
    {
      "cell_type": "code",
      "source": [
        "import re\n",
        "import matplotlib.pyplot as plt\n",
        "from collections import Counter\n",
        "\n",
        "from google.colab import drive\n",
        "drive.mount('/content/drive')\n",
        "\n",
        "\n",
        "\n",
        "# مسیر فایل در گوگل درایو\n",
        "input_file = '/content/drive/My Drive/test1/article_preprint.txt'\n",
        "output_chart = '/content/drive/My Drive/test1/sample_comm_cites.jpg'\n",
        "output_report = '/content/drive/My Drive/test1/sample_refs_report.txt'\n",
        "\n",
        "\n",
        "\n",
        "# Read the article text\n",
        "with open(input_file, \"r\", encoding=\"utf-8\") as file:\n",
        "    text = file.read()\n",
        "\n",
        "# Regular expression patterns\n",
        "name_date_pattern = re.compile(r\"\\((?:e\\.g\\.,\\s*)?([A-Z][a-z]+(?:\\s(?:et\\sal\\.|&\\s[A-Z][a-z]+)?)?,\\s\\d{4})\")\n",
        "date_only_pattern = re.compile(r\"([A-Z][a-z]+(?:\\s(?:et\\sal\\.|&\\s[A-Z][a-z]+)?)?)\\s\\(\\d{4}\\)\")\n",
        "\n",
        "# Extract citations\n",
        "name_date_citations = name_date_pattern.findall(text)\n",
        "date_only_matches = date_only_pattern.findall(text)\n",
        "\n",
        "# Count occurrences of citations\n",
        "citation_counts = Counter(name_date_citations)\n",
        "\n",
        "# Sort by most common\n",
        "most_common_citations = citation_counts.most_common(20)\n",
        "\n",
        "# Plot bar chart\n",
        "fig, ax = plt.subplots(figsize=(10, 6))\n",
        "labels, values = zip(*most_common_citations)\n",
        "ax.barh(labels[::-1], values[::-1])  # Reverse order for descending order\n",
        "ax.set_xlabel(\"Frequency\")\n",
        "ax.set_title(\"Most Common Citations\")\n",
        "plt.tight_layout()\n",
        "plt.savefig(output_chart)\n",
        "plt.close()\n",
        "\n",
        "# Unique citations list\n",
        "unique_name_date_citations = sorted(set(name_date_citations))\n",
        "unique_date_only_citations = sorted(set(date_only_matches))\n",
        "\n",
        "# Save reference report\n",
        "with open(output_report, \"w\", encoding=\"utf-8\") as report:\n",
        "    report.write(\"Citations with Names and Dates in Parentheses:\\n\")\n",
        "    report.write(\"\\n\".join(unique_name_date_citations) + \"\\n\\n\")\n",
        "    report.write(\"Citations with Only Dates in Parentheses:\\n\")\n",
        "    report.write(\"\\n\".join(unique_date_only_citations) + \"\\n\")\n",
        "\n",
        "print(\"Citation analysis complete. Outputs saved.\")\n"
      ],
      "metadata": {
        "colab": {
          "base_uri": "https://localhost:8080/"
        },
        "id": "bI6ZfO38qjyK",
        "outputId": "6c42259f-13e7-42e9-e892-6282ac92f3a3"
      },
      "execution_count": 1,
      "outputs": [
        {
          "output_type": "stream",
          "name": "stdout",
          "text": [
            "Mounted at /content/drive\n",
            "Citation analysis complete. Outputs saved.\n"
          ]
        }
      ]
    }
  ]
}