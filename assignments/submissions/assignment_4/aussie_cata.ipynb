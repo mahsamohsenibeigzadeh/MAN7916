{
  "nbformat": 4,
  "nbformat_minor": 0,
  "metadata": {
    "colab": {
      "provenance": []
    },
    "kernelspec": {
      "name": "python3",
      "display_name": "Python 3"
    },
    "language_info": {
      "name": "python"
    }
  },
  "cells": [
    {
      "cell_type": "code",
      "execution_count": 1,
      "metadata": {
        "colab": {
          "base_uri": "https://localhost:8080/"
        },
        "id": "JfQfaT4-tMS2",
        "outputId": "f4cd1073-d290-451f-9e97-2e7676ce2a88"
      },
      "outputs": [
        {
          "output_type": "stream",
          "name": "stdout",
          "text": [
            "Mounted at /content/drive\n",
            "Preprocessing and analysis complete. Outputs saved.\n"
          ]
        }
      ],
      "source": [
        "import os\n",
        "import pandas as pd\n",
        "import spacy\n",
        "import matplotlib.pyplot as plt\n",
        "from collections import Counter\n",
        "import re\n",
        "import matplotlib.pyplot as plt\n",
        "from collections import Counter\n",
        "\n",
        "from google.colab import drive\n",
        "drive.mount('/content/drive')\n",
        "# Load SpaCy model\n",
        "nlp = spacy.load(\"en_core_web_sm\")\n",
        "\n",
        "# File paths\n",
        "input_folder = \"/content/drive/My Drive/test1/About\"\n",
        "output_chart_ws = \"/content/drive/My Drive/test1/common100_ws.jpg\"\n",
        "output_chart_wos = \"/content/drive/My Drive/test1/common100_wos.jpg\"\n",
        "output_chart_innov = \"/content/drive/My Drive/test1/innov_freqs.jpg\"\n",
        "output_csv = \"/content/drive/My Drive/test1/innov_aussie_data.csv\"\n",
        "\n",
        "# Load text files into DataFrame\n",
        "file_data = []\n",
        "for filename in os.listdir(input_folder):\n",
        "    if filename.endswith(\".txt\"):\n",
        "        filepath = os.path.join(input_folder, filename)\n",
        "        with open(filepath, \"r\", encoding=\"utf-8\") as file:\n",
        "            text = file.read()\n",
        "        file_data.append({\"name\": filename.split(\".\")[0], \"filepath\": filepath, \"text\": text})\n",
        "\n",
        "df = pd.DataFrame(file_data)\n",
        "\n",
        "# Preprocess text\n",
        "\n",
        "def preprocess_text(text, remove_stopwords=False):\n",
        "    doc = nlp(text.lower())\n",
        "    if remove_stopwords:\n",
        "        return \" \".join([token.lemma_ for token in doc if not token.is_stop and token.is_alpha])\n",
        "    return \" \".join([token.lemma_ for token in doc if token.is_alpha])\n",
        "\n",
        "df[\"preprocessed_ws\"] = df[\"text\"].apply(lambda x: preprocess_text(x, remove_stopwords=False))\n",
        "df[\"preprocessed_wos\"] = df[\"text\"].apply(lambda x: preprocess_text(x, remove_stopwords=True))\n",
        "\n",
        "# Count word frequencies\n",
        "counter_ws = Counter(\" \".join(df[\"preprocessed_ws\"]).split())\n",
        "counter_wos = Counter(\" \".join(df[\"preprocessed_wos\"]).split())\n",
        "\n",
        "# Function to plot most common words\n",
        "def plot_common_words(counter, output_path, title, num_words=100):\n",
        "    common_words = counter.most_common(num_words)\n",
        "    words, counts = zip(*common_words)\n",
        "    plt.figure(figsize=(15, 6))\n",
        "    plt.plot(words, counts, marker=\"o\")\n",
        "    plt.xticks(rotation=90)\n",
        "    plt.xlabel(\"Words\")\n",
        "    plt.ylabel(\"Frequency\")\n",
        "    plt.title(title)\n",
        "    plt.tight_layout()\n",
        "    plt.savefig(output_path)\n",
        "    plt.close()\n",
        "\n",
        "# Generate and save charts\n",
        "plot_common_words(counter_ws, output_chart_ws, \"Top 100 Words (With Stopwords)\")\n",
        "plot_common_words(counter_wos, output_chart_wos, \"Top 100 Words (Without Stopwords)\")\n",
        "\n",
        "# Load 'Innovativeness' dictionary words manually\n",
        "innov_words = {\"innovation\", \"innovative\", \"creativity\", \"entrepreneurial\", \"disruptive\", \"novelty\", \"breakthrough\", \"pioneering\"}\n",
        "\n",
        "# Filter words for 'Innovativeness' dictionary\n",
        "filtered_innov_counter = Counter({word: counter_ws[word] for word in counter_ws if word in innov_words})\n",
        "plot_common_words(filtered_innov_counter, output_chart_innov, \"Innovativeness Word Frequencies\", num_words=20)\n",
        "\n",
        "# Compute 'innov_ws' and 'innov_perwd_ws'\n",
        "def count_innov_words(text):\n",
        "    words = text.split()\n",
        "    innov_count = sum(1 for word in words if word in innov_words)\n",
        "    return innov_count, innov_count / len(words) if words else 0\n",
        "\n",
        "df[\"innov_ws\"], df[\"innov_perwd_ws\"] = zip(*df[\"preprocessed_ws\"].apply(count_innov_words))\n",
        "\n",
        "# Save final dataset\n",
        "df.to_csv(output_csv, index=False)\n",
        "\n",
        "print(\"Preprocessing and analysis complete. Outputs saved.\")"
      ]
    }
  ]
}