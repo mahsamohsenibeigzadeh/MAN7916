{
 "cells": [
  {
   "cell_type": "markdown",
   "metadata": {},
   "source": [
    "# Welcome to MAN 7916\n",
    "\n",
    "This is a sample Notebook - similar to others you will work with in this course this semester."
   ]
  },
  {
   "cell_type": "code",
   "execution_count": null,
   "metadata": {},
   "outputs": [],
   "source": [
    "# If this is working correctly, this should be printed to the area below this cell\"\n",
    "print(\"Testing 123\")"
   ]
  },
  {
   "cell_type": "markdown",
   "metadata": {},
   "source": [
    "## Here is what to type into your assignment #1\n",
    "\n",
    "After running the notebook/this cell, you will be given output to enter into your Assignment #1"
   ]
  },
  {
   "cell_type": "code",
   "execution_count": 1,
   "metadata": {},
   "outputs": [
    {
     "name": "stdout",
     "output_type": "stream",
     "text": [
      "In your assignment #1 submission, please include the following text: \"Python2-75-et\"\n",
      "\n"
     ]
    }
   ],
   "source": [
    "from pathlib import Path\n",
    "\n",
    "file = Path.cwd() / \"lipsum.txt\"\n",
    "\n",
    "\n",
    "def validator(name_int: int, file: Path) -> str:\n",
    "    line = (name_int % 19) + 1\n",
    "    position = name_int % 50\n",
    "    with open(file, \"r\", encoding=\"utf8\") as file:\n",
    "        for _ in range(line):\n",
    "            text = file.readline().split()[position]\n",
    "    return text\n",
    "\n",
    "validation_int = len(str(file))\n",
    "validation_text = validator(validation_int, file)\n",
    "print(\n",
    "    f\"In your assignment #1 submission, please include the following \"\n",
    "    f'text: \"Python2-{validation_int}-{validation_text}\"\\n',\n",
    ")"
   ]
  }
 ],
 "metadata": {
  "kernelspec": {
   "display_name": ".venv",
   "language": "python",
   "name": "python3"
  },
  "language_info": {
   "codemirror_mode": {
    "name": "ipython",
    "version": 3
   },
   "file_extension": ".py",
   "mimetype": "text/x-python",
   "name": "python",
   "nbconvert_exporter": "python",
   "pygments_lexer": "ipython3",
   "version": "3.12.8"
  }
 },
 "nbformat": 4,
 "nbformat_minor": 2
}
